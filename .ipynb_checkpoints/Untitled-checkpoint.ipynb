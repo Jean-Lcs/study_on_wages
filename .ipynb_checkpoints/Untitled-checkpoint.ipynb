{
 "cells": [
  {
   "cell_type": "markdown",
   "id": "4fbe3204",
   "metadata": {},
   "source": [
    "# MODS PROJECT"
   ]
  },
  {
   "cell_type": "markdown",
   "id": "e059612e",
   "metadata": {},
   "source": [
    "## Imports"
   ]
  },
  {
   "cell_type": "code",
   "execution_count": 177,
   "id": "a3385cb0",
   "metadata": {},
   "outputs": [],
   "source": [
    "import pandas as pd\n",
    "import numpy as np\n",
    "import matplotlib.pyplot as plt\n",
    "import seaborn as sns\n",
    "import statsmodels.api as sm\n",
    "from scipy.stats import f \n",
    "from scipy.stats import spearmanr\n",
    "from scipy.stats import norm"
   ]
  },
  {
   "cell_type": "code",
   "execution_count": 178,
   "id": "fdff3a87",
   "metadata": {},
   "outputs": [],
   "source": [
    "df0 = pd.read_csv(\"MROZ.txt\", delim_whitespace=True, header=None)"
   ]
  },
  {
   "cell_type": "markdown",
   "id": "d2aa1b79",
   "metadata": {},
   "source": [
    "### Naming columns"
   ]
  },
  {
   "cell_type": "code",
   "execution_count": 179,
   "id": "21c570b2",
   "metadata": {},
   "outputs": [
    {
     "data": {
      "text/html": [
       "<div>\n",
       "<style scoped>\n",
       "    .dataframe tbody tr th:only-of-type {\n",
       "        vertical-align: middle;\n",
       "    }\n",
       "\n",
       "    .dataframe tbody tr th {\n",
       "        vertical-align: top;\n",
       "    }\n",
       "\n",
       "    .dataframe thead th {\n",
       "        text-align: right;\n",
       "    }\n",
       "</style>\n",
       "<table border=\"1\" class=\"dataframe\">\n",
       "  <thead>\n",
       "    <tr style=\"text-align: right;\">\n",
       "      <th></th>\n",
       "      <th>laborforce</th>\n",
       "      <th>hours worked</th>\n",
       "      <th>kids below 6</th>\n",
       "      <th>kids between 6 and 18</th>\n",
       "      <th>age women</th>\n",
       "      <th>educ years of schooling</th>\n",
       "      <th>wage estimated</th>\n",
       "      <th>husbandWage</th>\n",
       "      <th>hours worked by husband</th>\n",
       "      <th>husband age</th>\n",
       "      <th>...</th>\n",
       "      <th>family income</th>\n",
       "      <th>marginal tax rate facing woman</th>\n",
       "      <th>mothers year of schooling</th>\n",
       "      <th>fathers year of schooling</th>\n",
       "      <th>rate in country of resid</th>\n",
       "      <th>live in SMSA</th>\n",
       "      <th>marginal tax rate facing woman</th>\n",
       "      <th>nwifeinc</th>\n",
       "      <th>log(wage)</th>\n",
       "      <th>expersq</th>\n",
       "    </tr>\n",
       "  </thead>\n",
       "  <tbody>\n",
       "    <tr>\n",
       "      <th>0</th>\n",
       "      <td>1</td>\n",
       "      <td>1610</td>\n",
       "      <td>1</td>\n",
       "      <td>0</td>\n",
       "      <td>32</td>\n",
       "      <td>12</td>\n",
       "      <td>3.354</td>\n",
       "      <td>2.65</td>\n",
       "      <td>2708</td>\n",
       "      <td>34</td>\n",
       "      <td>...</td>\n",
       "      <td>16310</td>\n",
       "      <td>0.7215</td>\n",
       "      <td>12</td>\n",
       "      <td>7</td>\n",
       "      <td>5.0</td>\n",
       "      <td>0</td>\n",
       "      <td>14</td>\n",
       "      <td>10.910060</td>\n",
       "      <td>1.210154</td>\n",
       "      <td>196</td>\n",
       "    </tr>\n",
       "    <tr>\n",
       "      <th>1</th>\n",
       "      <td>1</td>\n",
       "      <td>1656</td>\n",
       "      <td>0</td>\n",
       "      <td>2</td>\n",
       "      <td>30</td>\n",
       "      <td>12</td>\n",
       "      <td>1.3889</td>\n",
       "      <td>2.65</td>\n",
       "      <td>2310</td>\n",
       "      <td>30</td>\n",
       "      <td>...</td>\n",
       "      <td>21800</td>\n",
       "      <td>0.6615</td>\n",
       "      <td>7</td>\n",
       "      <td>7</td>\n",
       "      <td>11.0</td>\n",
       "      <td>1</td>\n",
       "      <td>5</td>\n",
       "      <td>19.499980</td>\n",
       "      <td>.3285121</td>\n",
       "      <td>25</td>\n",
       "    </tr>\n",
       "    <tr>\n",
       "      <th>2</th>\n",
       "      <td>1</td>\n",
       "      <td>1980</td>\n",
       "      <td>1</td>\n",
       "      <td>3</td>\n",
       "      <td>35</td>\n",
       "      <td>12</td>\n",
       "      <td>4.5455</td>\n",
       "      <td>4.04</td>\n",
       "      <td>3072</td>\n",
       "      <td>40</td>\n",
       "      <td>...</td>\n",
       "      <td>21040</td>\n",
       "      <td>0.6915</td>\n",
       "      <td>12</td>\n",
       "      <td>7</td>\n",
       "      <td>5.0</td>\n",
       "      <td>0</td>\n",
       "      <td>15</td>\n",
       "      <td>12.039910</td>\n",
       "      <td>1.514138</td>\n",
       "      <td>225</td>\n",
       "    </tr>\n",
       "    <tr>\n",
       "      <th>3</th>\n",
       "      <td>1</td>\n",
       "      <td>456</td>\n",
       "      <td>0</td>\n",
       "      <td>3</td>\n",
       "      <td>34</td>\n",
       "      <td>12</td>\n",
       "      <td>1.0965</td>\n",
       "      <td>3.25</td>\n",
       "      <td>1920</td>\n",
       "      <td>53</td>\n",
       "      <td>...</td>\n",
       "      <td>7300</td>\n",
       "      <td>0.7815</td>\n",
       "      <td>7</td>\n",
       "      <td>7</td>\n",
       "      <td>5.0</td>\n",
       "      <td>0</td>\n",
       "      <td>6</td>\n",
       "      <td>6.799996</td>\n",
       "      <td>.0921233</td>\n",
       "      <td>36</td>\n",
       "    </tr>\n",
       "    <tr>\n",
       "      <th>4</th>\n",
       "      <td>1</td>\n",
       "      <td>1568</td>\n",
       "      <td>1</td>\n",
       "      <td>2</td>\n",
       "      <td>31</td>\n",
       "      <td>14</td>\n",
       "      <td>4.5918</td>\n",
       "      <td>3.60</td>\n",
       "      <td>2000</td>\n",
       "      <td>32</td>\n",
       "      <td>...</td>\n",
       "      <td>27300</td>\n",
       "      <td>0.6215</td>\n",
       "      <td>12</td>\n",
       "      <td>14</td>\n",
       "      <td>9.5</td>\n",
       "      <td>1</td>\n",
       "      <td>7</td>\n",
       "      <td>20.100060</td>\n",
       "      <td>1.524272</td>\n",
       "      <td>49</td>\n",
       "    </tr>\n",
       "    <tr>\n",
       "      <th>...</th>\n",
       "      <td>...</td>\n",
       "      <td>...</td>\n",
       "      <td>...</td>\n",
       "      <td>...</td>\n",
       "      <td>...</td>\n",
       "      <td>...</td>\n",
       "      <td>...</td>\n",
       "      <td>...</td>\n",
       "      <td>...</td>\n",
       "      <td>...</td>\n",
       "      <td>...</td>\n",
       "      <td>...</td>\n",
       "      <td>...</td>\n",
       "      <td>...</td>\n",
       "      <td>...</td>\n",
       "      <td>...</td>\n",
       "      <td>...</td>\n",
       "      <td>...</td>\n",
       "      <td>...</td>\n",
       "      <td>...</td>\n",
       "      <td>...</td>\n",
       "    </tr>\n",
       "    <tr>\n",
       "      <th>748</th>\n",
       "      <td>0</td>\n",
       "      <td>0</td>\n",
       "      <td>0</td>\n",
       "      <td>2</td>\n",
       "      <td>40</td>\n",
       "      <td>13</td>\n",
       "      <td>.</td>\n",
       "      <td>0.00</td>\n",
       "      <td>3020</td>\n",
       "      <td>43</td>\n",
       "      <td>...</td>\n",
       "      <td>28200</td>\n",
       "      <td>0.6215</td>\n",
       "      <td>10</td>\n",
       "      <td>10</td>\n",
       "      <td>9.5</td>\n",
       "      <td>1</td>\n",
       "      <td>5</td>\n",
       "      <td>28.200000</td>\n",
       "      <td>.</td>\n",
       "      <td>25</td>\n",
       "    </tr>\n",
       "    <tr>\n",
       "      <th>749</th>\n",
       "      <td>0</td>\n",
       "      <td>0</td>\n",
       "      <td>2</td>\n",
       "      <td>3</td>\n",
       "      <td>31</td>\n",
       "      <td>12</td>\n",
       "      <td>.</td>\n",
       "      <td>0.00</td>\n",
       "      <td>2056</td>\n",
       "      <td>33</td>\n",
       "      <td>...</td>\n",
       "      <td>10000</td>\n",
       "      <td>0.7715</td>\n",
       "      <td>12</td>\n",
       "      <td>12</td>\n",
       "      <td>7.5</td>\n",
       "      <td>0</td>\n",
       "      <td>14</td>\n",
       "      <td>10.000000</td>\n",
       "      <td>.</td>\n",
       "      <td>196</td>\n",
       "    </tr>\n",
       "    <tr>\n",
       "      <th>750</th>\n",
       "      <td>0</td>\n",
       "      <td>0</td>\n",
       "      <td>0</td>\n",
       "      <td>0</td>\n",
       "      <td>43</td>\n",
       "      <td>12</td>\n",
       "      <td>.</td>\n",
       "      <td>0.00</td>\n",
       "      <td>2383</td>\n",
       "      <td>43</td>\n",
       "      <td>...</td>\n",
       "      <td>9952</td>\n",
       "      <td>0.7515</td>\n",
       "      <td>10</td>\n",
       "      <td>3</td>\n",
       "      <td>7.5</td>\n",
       "      <td>0</td>\n",
       "      <td>4</td>\n",
       "      <td>9.952000</td>\n",
       "      <td>.</td>\n",
       "      <td>16</td>\n",
       "    </tr>\n",
       "    <tr>\n",
       "      <th>751</th>\n",
       "      <td>0</td>\n",
       "      <td>0</td>\n",
       "      <td>0</td>\n",
       "      <td>0</td>\n",
       "      <td>60</td>\n",
       "      <td>12</td>\n",
       "      <td>.</td>\n",
       "      <td>0.00</td>\n",
       "      <td>1705</td>\n",
       "      <td>55</td>\n",
       "      <td>...</td>\n",
       "      <td>24984</td>\n",
       "      <td>0.6215</td>\n",
       "      <td>12</td>\n",
       "      <td>12</td>\n",
       "      <td>14.0</td>\n",
       "      <td>1</td>\n",
       "      <td>15</td>\n",
       "      <td>24.984000</td>\n",
       "      <td>.</td>\n",
       "      <td>225</td>\n",
       "    </tr>\n",
       "    <tr>\n",
       "      <th>752</th>\n",
       "      <td>0</td>\n",
       "      <td>0</td>\n",
       "      <td>0</td>\n",
       "      <td>3</td>\n",
       "      <td>39</td>\n",
       "      <td>9</td>\n",
       "      <td>.</td>\n",
       "      <td>0.00</td>\n",
       "      <td>3120</td>\n",
       "      <td>48</td>\n",
       "      <td>...</td>\n",
       "      <td>28363</td>\n",
       "      <td>0.6915</td>\n",
       "      <td>7</td>\n",
       "      <td>7</td>\n",
       "      <td>11.0</td>\n",
       "      <td>1</td>\n",
       "      <td>12</td>\n",
       "      <td>28.363000</td>\n",
       "      <td>.</td>\n",
       "      <td>144</td>\n",
       "    </tr>\n",
       "  </tbody>\n",
       "</table>\n",
       "<p>753 rows × 22 columns</p>\n",
       "</div>"
      ],
      "text/plain": [
       "     laborforce  hours worked  kids below 6  kids between 6 and 18  age women  \\\n",
       "0             1          1610             1                      0         32   \n",
       "1             1          1656             0                      2         30   \n",
       "2             1          1980             1                      3         35   \n",
       "3             1           456             0                      3         34   \n",
       "4             1          1568             1                      2         31   \n",
       "..          ...           ...           ...                    ...        ...   \n",
       "748           0             0             0                      2         40   \n",
       "749           0             0             2                      3         31   \n",
       "750           0             0             0                      0         43   \n",
       "751           0             0             0                      0         60   \n",
       "752           0             0             0                      3         39   \n",
       "\n",
       "     educ years of schooling wage estimated  husbandWage  \\\n",
       "0                         12          3.354         2.65   \n",
       "1                         12         1.3889         2.65   \n",
       "2                         12         4.5455         4.04   \n",
       "3                         12         1.0965         3.25   \n",
       "4                         14         4.5918         3.60   \n",
       "..                       ...            ...          ...   \n",
       "748                       13              .         0.00   \n",
       "749                       12              .         0.00   \n",
       "750                       12              .         0.00   \n",
       "751                       12              .         0.00   \n",
       "752                        9              .         0.00   \n",
       "\n",
       "     hours worked by husband  husband age  ...  family income  \\\n",
       "0                       2708           34  ...          16310   \n",
       "1                       2310           30  ...          21800   \n",
       "2                       3072           40  ...          21040   \n",
       "3                       1920           53  ...           7300   \n",
       "4                       2000           32  ...          27300   \n",
       "..                       ...          ...  ...            ...   \n",
       "748                     3020           43  ...          28200   \n",
       "749                     2056           33  ...          10000   \n",
       "750                     2383           43  ...           9952   \n",
       "751                     1705           55  ...          24984   \n",
       "752                     3120           48  ...          28363   \n",
       "\n",
       "     marginal tax rate facing woman  mothers year of schooling  \\\n",
       "0                            0.7215                         12   \n",
       "1                            0.6615                          7   \n",
       "2                            0.6915                         12   \n",
       "3                            0.7815                          7   \n",
       "4                            0.6215                         12   \n",
       "..                              ...                        ...   \n",
       "748                          0.6215                         10   \n",
       "749                          0.7715                         12   \n",
       "750                          0.7515                         10   \n",
       "751                          0.6215                         12   \n",
       "752                          0.6915                          7   \n",
       "\n",
       "     fathers year of schooling  rate in country of resid  live in SMSA  \\\n",
       "0                            7                       5.0             0   \n",
       "1                            7                      11.0             1   \n",
       "2                            7                       5.0             0   \n",
       "3                            7                       5.0             0   \n",
       "4                           14                       9.5             1   \n",
       "..                         ...                       ...           ...   \n",
       "748                         10                       9.5             1   \n",
       "749                         12                       7.5             0   \n",
       "750                          3                       7.5             0   \n",
       "751                         12                      14.0             1   \n",
       "752                          7                      11.0             1   \n",
       "\n",
       "     marginal tax rate facing woman   nwifeinc  log(wage)  expersq  \n",
       "0                                14  10.910060   1.210154      196  \n",
       "1                                 5  19.499980   .3285121       25  \n",
       "2                                15  12.039910   1.514138      225  \n",
       "3                                 6   6.799996   .0921233       36  \n",
       "4                                 7  20.100060   1.524272       49  \n",
       "..                              ...        ...        ...      ...  \n",
       "748                               5  28.200000          .       25  \n",
       "749                              14  10.000000          .      196  \n",
       "750                               4   9.952000          .       16  \n",
       "751                              15  24.984000          .      225  \n",
       "752                              12  28.363000          .      144  \n",
       "\n",
       "[753 rows x 22 columns]"
      ]
     },
     "execution_count": 179,
     "metadata": {},
     "output_type": "execute_result"
    }
   ],
   "source": [
    "df0 = df0.rename(columns={0: 'laborforce' \n",
    "                          ,1: \"hours worked\"\n",
    "                          , 2: \"kids below 6\"\n",
    "                          ,3: 'kids between 6 and 18'\n",
    "                          , 4: 'age women'\n",
    "                          , 5: 'educ years of schooling'\n",
    "                          , 6: 'wage estimated'\n",
    "                          , 7: 'husbandWage'\n",
    "                          , 8: 'hours worked by husband'\n",
    "                          , 9: 'husband age'\n",
    "                          , 10: 'huband year of schooling'\n",
    "                          , 11: 'husbands hourly wage'\n",
    "                          , 12: 'family income'\n",
    "                          , 13: 'marginal tax rate facing woman'\n",
    "                          , 14:'mothers year of schooling'\n",
    "                          , 15: 'fathers year of schooling'\n",
    "                          , 16:'rate in country of resid'\n",
    "                          , 17: 'live in SMSA'\n",
    "                          , 18: 'marginal tax rate facing woman'\n",
    "                          , 19: 'nwifeinc'\n",
    "                          , 20: 'log(wage)'\n",
    "                          , 21: 'expersq'})\n",
    "df0"
   ]
  },
  {
   "cell_type": "markdown",
   "id": "6aff6fa2",
   "metadata": {},
   "source": [
    "### Question  1"
   ]
  },
  {
   "cell_type": "markdown",
   "id": "8b1c5302",
   "metadata": {},
   "source": [
    "Let's transform \".\" into real values"
   ]
  },
  {
   "cell_type": "code",
   "execution_count": 180,
   "id": "86d1b0cb",
   "metadata": {
    "scrolled": true
   },
   "outputs": [],
   "source": [
    "s,df = df0['wage estimated'],df0.copy()\n",
    "empty_rows = s[s==\".\" ].index\n",
    "df = df.drop(empty_rows)\n",
    "df0=df.copy()"
   ]
  },
  {
   "cell_type": "code",
   "execution_count": 181,
   "id": "4b4db921",
   "metadata": {
    "scrolled": true
   },
   "outputs": [
    {
     "name": "stdout",
     "output_type": "stream",
     "text": [
      "We removed  0  where the wage data was null or negative\n"
     ]
    }
   ],
   "source": [
    "print(\"We removed \",len(df0)-len(df),\" where the wage data was null or negative\")"
   ]
  },
  {
   "cell_type": "markdown",
   "id": "9da603a0",
   "metadata": {},
   "source": [
    "### Question  2"
   ]
  },
  {
   "cell_type": "markdown",
   "id": "3ce6b347",
   "metadata": {},
   "source": [
    "#### For all women:"
   ]
  },
  {
   "cell_type": "code",
   "execution_count": 182,
   "id": "445c665d",
   "metadata": {},
   "outputs": [
    {
     "name": "stdout",
     "output_type": "stream",
     "text": [
      "The statistics of women salaries whose husband earn more the median are:\n"
     ]
    },
    {
     "data": {
      "text/html": [
       "<div>\n",
       "<style scoped>\n",
       "    .dataframe tbody tr th:only-of-type {\n",
       "        vertical-align: middle;\n",
       "    }\n",
       "\n",
       "    .dataframe tbody tr th {\n",
       "        vertical-align: top;\n",
       "    }\n",
       "\n",
       "    .dataframe thead th {\n",
       "        text-align: right;\n",
       "    }\n",
       "</style>\n",
       "<table border=\"1\" class=\"dataframe\">\n",
       "  <thead>\n",
       "    <tr style=\"text-align: right;\">\n",
       "      <th></th>\n",
       "      <th>wage estimated</th>\n",
       "      <th>age women</th>\n",
       "      <th>educ years of schooling</th>\n",
       "    </tr>\n",
       "  </thead>\n",
       "  <tbody>\n",
       "    <tr>\n",
       "      <th>count</th>\n",
       "      <td>428.000000</td>\n",
       "      <td>428.000000</td>\n",
       "      <td>428.000000</td>\n",
       "    </tr>\n",
       "    <tr>\n",
       "      <th>mean</th>\n",
       "      <td>4.177682</td>\n",
       "      <td>41.971963</td>\n",
       "      <td>12.658879</td>\n",
       "    </tr>\n",
       "    <tr>\n",
       "      <th>std</th>\n",
       "      <td>3.310282</td>\n",
       "      <td>7.721084</td>\n",
       "      <td>2.285376</td>\n",
       "    </tr>\n",
       "    <tr>\n",
       "      <th>min</th>\n",
       "      <td>0.128200</td>\n",
       "      <td>30.000000</td>\n",
       "      <td>5.000000</td>\n",
       "    </tr>\n",
       "    <tr>\n",
       "      <th>25%</th>\n",
       "      <td>2.262600</td>\n",
       "      <td>35.000000</td>\n",
       "      <td>12.000000</td>\n",
       "    </tr>\n",
       "    <tr>\n",
       "      <th>50%</th>\n",
       "      <td>3.481900</td>\n",
       "      <td>42.000000</td>\n",
       "      <td>12.000000</td>\n",
       "    </tr>\n",
       "    <tr>\n",
       "      <th>75%</th>\n",
       "      <td>4.970750</td>\n",
       "      <td>47.250000</td>\n",
       "      <td>14.000000</td>\n",
       "    </tr>\n",
       "    <tr>\n",
       "      <th>max</th>\n",
       "      <td>25.000000</td>\n",
       "      <td>60.000000</td>\n",
       "      <td>17.000000</td>\n",
       "    </tr>\n",
       "  </tbody>\n",
       "</table>\n",
       "</div>"
      ],
      "text/plain": [
       "       wage estimated   age women  educ years of schooling\n",
       "count      428.000000  428.000000               428.000000\n",
       "mean         4.177682   41.971963                12.658879\n",
       "std          3.310282    7.721084                 2.285376\n",
       "min          0.128200   30.000000                 5.000000\n",
       "25%          2.262600   35.000000                12.000000\n",
       "50%          3.481900   42.000000                12.000000\n",
       "75%          4.970750   47.250000                14.000000\n",
       "max         25.000000   60.000000                17.000000"
      ]
     },
     "execution_count": 182,
     "metadata": {},
     "output_type": "execute_result"
    }
   ],
   "source": [
    "df['wage estimated']= pd.to_numeric(df['wage estimated'])\n",
    "print('The statistics of women salaries whose husband earn more the median are:')\n",
    "df[['wage estimated', 'age women', 'educ years of schooling']].describe()"
   ]
  },
  {
   "cell_type": "markdown",
   "id": "8b999348",
   "metadata": {},
   "source": [
    "#### For women whose husband earn more than the median wage:"
   ]
  },
  {
   "cell_type": "code",
   "execution_count": 183,
   "id": "1da2ea7c",
   "metadata": {},
   "outputs": [
    {
     "name": "stdout",
     "output_type": "stream",
     "text": [
      "The statistics of women salaries whose husband earn more the median are:\n"
     ]
    },
    {
     "data": {
      "text/html": [
       "<div>\n",
       "<style scoped>\n",
       "    .dataframe tbody tr th:only-of-type {\n",
       "        vertical-align: middle;\n",
       "    }\n",
       "\n",
       "    .dataframe tbody tr th {\n",
       "        vertical-align: top;\n",
       "    }\n",
       "\n",
       "    .dataframe thead th {\n",
       "        text-align: right;\n",
       "    }\n",
       "</style>\n",
       "<table border=\"1\" class=\"dataframe\">\n",
       "  <thead>\n",
       "    <tr style=\"text-align: right;\">\n",
       "      <th></th>\n",
       "      <th>wage estimated</th>\n",
       "      <th>age women</th>\n",
       "      <th>educ years of schooling</th>\n",
       "    </tr>\n",
       "  </thead>\n",
       "  <tbody>\n",
       "    <tr>\n",
       "      <th>count</th>\n",
       "      <td>214.000000</td>\n",
       "      <td>214.000000</td>\n",
       "      <td>214.000000</td>\n",
       "    </tr>\n",
       "    <tr>\n",
       "      <th>mean</th>\n",
       "      <td>5.232559</td>\n",
       "      <td>41.841121</td>\n",
       "      <td>13.135514</td>\n",
       "    </tr>\n",
       "    <tr>\n",
       "      <th>std</th>\n",
       "      <td>2.937990</td>\n",
       "      <td>7.338431</td>\n",
       "      <td>2.238240</td>\n",
       "    </tr>\n",
       "    <tr>\n",
       "      <th>min</th>\n",
       "      <td>0.382600</td>\n",
       "      <td>30.000000</td>\n",
       "      <td>7.000000</td>\n",
       "    </tr>\n",
       "    <tr>\n",
       "      <th>25%</th>\n",
       "      <td>3.576825</td>\n",
       "      <td>35.000000</td>\n",
       "      <td>12.000000</td>\n",
       "    </tr>\n",
       "    <tr>\n",
       "      <th>50%</th>\n",
       "      <td>4.543150</td>\n",
       "      <td>43.000000</td>\n",
       "      <td>12.000000</td>\n",
       "    </tr>\n",
       "    <tr>\n",
       "      <th>75%</th>\n",
       "      <td>5.863100</td>\n",
       "      <td>47.000000</td>\n",
       "      <td>15.000000</td>\n",
       "    </tr>\n",
       "    <tr>\n",
       "      <th>max</th>\n",
       "      <td>25.000000</td>\n",
       "      <td>58.000000</td>\n",
       "      <td>17.000000</td>\n",
       "    </tr>\n",
       "  </tbody>\n",
       "</table>\n",
       "</div>"
      ],
      "text/plain": [
       "       wage estimated   age women  educ years of schooling\n",
       "count      214.000000  214.000000               214.000000\n",
       "mean         5.232559   41.841121                13.135514\n",
       "std          2.937990    7.338431                 2.238240\n",
       "min          0.382600   30.000000                 7.000000\n",
       "25%          3.576825   35.000000                12.000000\n",
       "50%          4.543150   43.000000                12.000000\n",
       "75%          5.863100   47.000000                15.000000\n",
       "max         25.000000   58.000000                17.000000"
      ]
     },
     "execution_count": 183,
     "metadata": {},
     "output_type": "execute_result"
    }
   ],
   "source": [
    "print('The statistics of women salaries whose husband earn more the median are:')\n",
    "df[['wage estimated', 'age women', 'educ years of schooling']][df['husbandWage']> np.median(df['husbandWage'])].describe()"
   ]
  },
  {
   "cell_type": "markdown",
   "id": "796b7322",
   "metadata": {},
   "source": [
    "#### For women whose husband earn more than the median wage:"
   ]
  },
  {
   "cell_type": "code",
   "execution_count": 184,
   "id": "0ea9939f",
   "metadata": {},
   "outputs": [
    {
     "name": "stdout",
     "output_type": "stream",
     "text": [
      "The statistics of women salaries whose husband earn more the median are:\n"
     ]
    },
    {
     "data": {
      "text/html": [
       "<div>\n",
       "<style scoped>\n",
       "    .dataframe tbody tr th:only-of-type {\n",
       "        vertical-align: middle;\n",
       "    }\n",
       "\n",
       "    .dataframe tbody tr th {\n",
       "        vertical-align: top;\n",
       "    }\n",
       "\n",
       "    .dataframe thead th {\n",
       "        text-align: right;\n",
       "    }\n",
       "</style>\n",
       "<table border=\"1\" class=\"dataframe\">\n",
       "  <thead>\n",
       "    <tr style=\"text-align: right;\">\n",
       "      <th></th>\n",
       "      <th>wage estimated</th>\n",
       "      <th>age women</th>\n",
       "      <th>educ years of schooling</th>\n",
       "    </tr>\n",
       "  </thead>\n",
       "  <tbody>\n",
       "    <tr>\n",
       "      <th>count</th>\n",
       "      <td>214.000000</td>\n",
       "      <td>214.000000</td>\n",
       "      <td>214.000000</td>\n",
       "    </tr>\n",
       "    <tr>\n",
       "      <th>mean</th>\n",
       "      <td>3.122804</td>\n",
       "      <td>42.102804</td>\n",
       "      <td>12.182243</td>\n",
       "    </tr>\n",
       "    <tr>\n",
       "      <th>std</th>\n",
       "      <td>3.331609</td>\n",
       "      <td>8.100814</td>\n",
       "      <td>2.237005</td>\n",
       "    </tr>\n",
       "    <tr>\n",
       "      <th>min</th>\n",
       "      <td>0.128200</td>\n",
       "      <td>30.000000</td>\n",
       "      <td>5.000000</td>\n",
       "    </tr>\n",
       "    <tr>\n",
       "      <th>25%</th>\n",
       "      <td>1.697225</td>\n",
       "      <td>35.000000</td>\n",
       "      <td>12.000000</td>\n",
       "    </tr>\n",
       "    <tr>\n",
       "      <th>50%</th>\n",
       "      <td>2.369150</td>\n",
       "      <td>41.000000</td>\n",
       "      <td>12.000000</td>\n",
       "    </tr>\n",
       "    <tr>\n",
       "      <th>75%</th>\n",
       "      <td>3.328950</td>\n",
       "      <td>48.000000</td>\n",
       "      <td>13.000000</td>\n",
       "    </tr>\n",
       "    <tr>\n",
       "      <th>max</th>\n",
       "      <td>25.000000</td>\n",
       "      <td>60.000000</td>\n",
       "      <td>17.000000</td>\n",
       "    </tr>\n",
       "  </tbody>\n",
       "</table>\n",
       "</div>"
      ],
      "text/plain": [
       "       wage estimated   age women  educ years of schooling\n",
       "count      214.000000  214.000000               214.000000\n",
       "mean         3.122804   42.102804                12.182243\n",
       "std          3.331609    8.100814                 2.237005\n",
       "min          0.128200   30.000000                 5.000000\n",
       "25%          1.697225   35.000000                12.000000\n",
       "50%          2.369150   41.000000                12.000000\n",
       "75%          3.328950   48.000000                13.000000\n",
       "max         25.000000   60.000000                17.000000"
      ]
     },
     "execution_count": 184,
     "metadata": {},
     "output_type": "execute_result"
    }
   ],
   "source": [
    "print('The statistics of women salaries whose husband earn more the median are:')\n",
    "df[['wage estimated', 'age women', 'educ years of schooling']][df['husbandWage']<=np.median(df['husbandWage'])].describe()"
   ]
  },
  {
   "cell_type": "markdown",
   "id": "bc152ea8",
   "metadata": {},
   "source": [
    "### Question  3"
   ]
  },
  {
   "cell_type": "code",
   "execution_count": 185,
   "id": "5360dfd2",
   "metadata": {},
   "outputs": [
    {
     "data": {
      "image/png": "[encoded data removed]",
      "text/plain": [
       "<Figure size 1152x432 with 2 Axes>"
      ]
     },
     "metadata": {
      "needs_background": "light"
     },
     "output_type": "display_data"
    }
   ],
   "source": [
    "plt.rcParams[\"figure.figsize\"] = (16, 6)\n",
    "\n",
    "plt.subplot(1,2,1)\n",
    "plt.hist(df['wage estimated'],20)\n",
    "plt.title('wage')\n",
    "plt.grid()\n",
    "\n",
    "plt.subplot(1,2,2) \n",
    "df['log(wage)']= np.log(df['wage estimated'])\n",
    "plt.hist(df['log(wage)'],20)\n",
    "plt.title('log(wage)')\n",
    "plt.grid(axis='y')\n",
    "plt.show()"
   ]
  },
  {
   "cell_type": "markdown",
   "id": "7455d84a",
   "metadata": {},
   "source": [
    "On constate que les deux variables semblent suivre une loi gaussienne de moyenne approximative 3 et 1.2 respectivement.\n",
    "Ce résultat est normal puisque tout échantillon de donné converge vers une telle loi lorsque n devient assez grand."
   ]
  },
  {
   "cell_type": "markdown",
   "id": "26eb05f9",
   "metadata": {},
   "source": [
    "### Question  4"
   ]
  },
  {
   "cell_type": "code",
   "execution_count": 186,
   "id": "3c229b61",
   "metadata": {},
   "outputs": [
    {
     "name": "stdout",
     "output_type": "stream",
     "text": [
      "La correlation entre ces deux variables est: \n",
      " 0.550732782239588\n",
      "La p-value de rejet \n",
      " 2.580005695516474e-35\n"
     ]
    }
   ],
   "source": [
    "motheduc = df['mothers year of schooling']\n",
    "fatheduc = df['fathers year of schooling']\n",
    "print('La correlation entre ces deux variables est: \\n', spearmanr(df['mothers year of schooling'], df['fathers year of schooling'])[0])\n",
    "print('La p-value de rejet \\n', spearmanr(df['mothers year of schooling'], df['fathers year of schooling'])[1])"
   ]
  },
  {
   "cell_type": "markdown",
   "id": "839fe5de",
   "metadata": {},
   "source": [
    "On remarque une corrélation assez forte, ou du moins non-négligeable. Cela peut s'expliquer par le fait que les membres d'un couple sont souvents issus d'un niveau d'études assez similaire à cause de la non-mixité des classes sociales."
   ]
  },
  {
   "cell_type": "markdown",
   "id": "eaf4714a",
   "metadata": {},
   "source": [
    "Cette corrélation peut donc introduire un biais de multicolinéarité.\n"
   ]
  },
  {
   "cell_type": "markdown",
   "id": "3f1b4608",
   "metadata": {},
   "source": [
    "Cepandant, puisque la p-value vaut environ 0 (<1%), on rejette l'hypothèse \"présence de multicolinérarité\" entre les 2 variables. "
   ]
  },
  {
   "cell_type": "markdown",
   "id": "4cad703a",
   "metadata": {},
   "source": [
    "### Question  5"
   ]
  },
  {
   "cell_type": "markdown",
   "id": "51d0f995",
   "metadata": {},
   "source": [
    "#### Wage and education / expersq / education of the father"
   ]
  },
  {
   "cell_type": "code",
   "execution_count": 187,
   "id": "5fb5a8d9",
   "metadata": {},
   "outputs": [
    {
     "data": {
      "image/png": "[encoded data removed]",
      "text/plain": [
       "<Figure size 1152x1224 with 3 Axes>"
      ]
     },
     "metadata": {
      "needs_background": "light"
     },
     "output_type": "display_data"
    }
   ],
   "source": [
    "plt.rcParams[\"figure.figsize\"] = (16, 17)\n",
    "\n",
    "plt.subplot(3,1,1)\n",
    "plt.scatter(df['educ years of schooling'],df['wage estimated'])\n",
    "plt.grid()\n",
    "plt.title('Wage and education')\n",
    "fit1 = np.polyfit(df['educ years of schooling'],df['wage estimated'] , 1)\n",
    "tt1=np.linspace(4,17,100)\n",
    "plt.plot(tt1,fit1[0]*tt1+fit1[1], 'r')\n",
    "plt.xlabel('education')\n",
    "plt.ylabel('wage')\n",
    "\n",
    "\n",
    "plt.subplot(3,1,2)\n",
    "plt.scatter(df['expersq'],df['wage estimated'])\n",
    "plt.grid()\n",
    "plt.title('Wage and expersq')\n",
    "fit2 = np.polyfit(df['expersq'],df['wage estimated'] , 1)\n",
    "tt2=np.linspace(0,1500,100)\n",
    "plt.plot(tt2,fit2[0]*tt2+fit2[1], 'r')\n",
    "plt.xlabel('experience')\n",
    "plt.ylabel('wage')\n",
    "\n",
    "\n",
    "plt.subplot(3,1,3)\n",
    "plt.scatter(df['fathers year of schooling'],df['wage estimated'])\n",
    "plt.title(\"Wage and the father's year of schooling\")\n",
    "fit3 = np.polyfit(df['fathers year of schooling'],df['wage estimated'] , 1)\n",
    "tt3=np.linspace(0,17,100)\n",
    "plt.plot(tt3,fit3[0]*tt3+fit3[1], 'r')\n",
    "plt.xlabel('fathers year of schooling')\n",
    "plt.ylabel('wage')\n",
    "plt.grid()\n",
    "\n",
    "plt.show()"
   ]
  },
  {
   "cell_type": "markdown",
   "id": "964254b0",
   "metadata": {},
   "source": [
    "Il ne s'agit ici pas d'un effet \"toute chose étant égale par ailleurs\", puisque pour la variation de chacune des données, les autres données ne sont pas constantes."
   ]
  },
  {
   "cell_type": "markdown",
   "id": "5ea78296",
   "metadata": {},
   "source": [
    "### Question  6"
   ]
  },
  {
   "cell_type": "markdown",
   "id": "02bf224f",
   "metadata": {},
   "source": [
    "L'hypothèse est que: \n"
   ]
  },
  {
   "cell_type": "markdown",
   "id": "d7c78898",
   "metadata": {},
   "source": [
    "                E(U|X) = 0 "
   ]
  },
  {
   "cell_type": "markdown",
   "id": "742b6a2d",
   "metadata": {},
   "source": [
    "                Since:    E(𝛽_hat) = E(𝛽) + (x-x')E(U|X)"
   ]
  },
  {
   "cell_type": "markdown",
   "id": "09d5a188",
   "metadata": {},
   "source": [
    "                                            E(𝛽_hat) = E(𝛽)"
   ]
  },
  {
   "cell_type": "markdown",
   "id": "7045d086",
   "metadata": {},
   "source": [
    "Le biais de variable omise est le biais lié à la non prise en compte dans le modèle d'une varibale importante."
   ]
  },
  {
   "cell_type": "markdown",
   "id": "7c4fa62c",
   "metadata": {},
   "source": [
    "### Question  7"
   ]
  },
  {
   "cell_type": "code",
   "execution_count": 190,
   "id": "924a68bf",
   "metadata": {
    "scrolled": true
   },
   "outputs": [
    {
     "data": {
      "image/png": "[encoded data removed]",
      "text/plain": [
       "<Figure size 1152x432 with 1 Axes>"
      ]
     },
     "metadata": {
      "needs_background": "light"
     },
     "output_type": "display_data"
    },
    {
     "name": "stdout",
     "output_type": "stream",
     "text": [
      "                            OLS Regression Results                            \n",
      "==============================================================================\n",
      "Dep. Variable:         wage estimated   R-squared:                       0.127\n",
      "Model:                            OLS   Adj. R-squared:                  0.114\n",
      "Method:                 Least Squares   F-statistic:                     10.18\n",
      "Date:                Fri, 19 Nov 2021   Prob (F-statistic):           1.59e-10\n",
      "Time:                        15:42:35   Log-Likelihood:                -1090.1\n",
      "No. Observations:                 428   AIC:                             2194.\n",
      "Df Residuals:                     421   BIC:                             2223.\n",
      "Df Model:                           6                                         \n",
      "Covariance Type:            nonrobust                                         \n",
      "==============================================================================\n",
      "                 coef    std err          t      P>|t|      [0.025      0.975]\n",
      "------------------------------------------------------------------------------\n",
      "const         -2.2446      0.926     -2.425      0.016      -4.064      -0.425\n",
      "x1             0.3762      0.327      1.152      0.250      -0.266       1.018\n",
      "x2             0.4617      0.070      6.569      0.000       0.324       0.600\n",
      "x3             0.0006      0.001      1.026      0.305      -0.001       0.002\n",
      "x4             0.0148      0.015      0.954      0.340      -0.016       0.045\n",
      "x5             0.0203      0.396      0.051      0.959      -0.758       0.798\n",
      "x6            -0.0700      0.124     -0.562      0.574      -0.315       0.175\n",
      "==============================================================================\n",
      "Omnibus:                      343.215   Durbin-Watson:                   2.058\n",
      "Prob(Omnibus):                  0.000   Jarque-Bera (JB):             6326.629\n",
      "Skew:                           3.359   Prob(JB):                         0.00\n",
      "Kurtosis:                      20.596   Cond. No.                     2.21e+03\n",
      "==============================================================================\n",
      "\n",
      "Notes:\n",
      "[1] Standard Errors assume that the covariance matrix of the errors is correctly specified.\n",
      "[2] The condition number is large, 2.21e+03. This might indicate that there are\n",
      "strong multicollinearity or other numerical problems.\n",
      "4086.2143777901156\n"
     ]
    }
   ],
   "source": [
    "plt.rcParams[\"figure.figsize\"] = (16, 6)\n",
    "a = np.ones(len(df['wage estimated']))\n",
    "\n",
    "stack =np.column_stack((a, \n",
    "                        df['live in SMSA'], \n",
    "                        df['educ years of schooling'], \n",
    "                        df['expersq'], \n",
    "                        df['nwifeinc'], \n",
    "                        df['kids below 6'], \n",
    "                        df['kids between 6 and 18']))\n",
    "\n",
    "mod0 = sm.OLS(df['wage estimated'], stack)\n",
    "mod0 = mod0.fit()\n",
    "res0 = mod0.resid\n",
    "SSR0 = res0.T@res0\n",
    "\n",
    "\n",
    "plt.hist(res0,'auto', label='OLS on wage')\n",
    "\n",
    "\n",
    "x = np.linspace(-10, 25, 100)\n",
    "y = norm.pdf(x,0,2)*290  ## We mutliply to normalize the 2 curves\n",
    "plt.plot(x,y, label = 'gaussian curve')\n",
    "plt.legend()\n",
    "\n",
    "plt.show()\n",
    "\n",
    "print(mod0.summary())\n",
    "print(SSR0)"
   ]
  },
  {
   "cell_type": "markdown",
   "id": "112e3c07",
   "metadata": {},
   "source": [
    "A partir de l'histogramme, nous pouvons interpréter que les résidus suivent une lois gaussienne centrée en 0.\n"
   ]
  },
  {
   "cell_type": "markdown",
   "id": "7be8fdca",
   "metadata": {},
   "source": [
    "Cependant, il y a une lègère erreur introduisant une asymétrie pour des valeurs d'abscisse négatives proches de 0, et de plus, certaines valeurs me semblent incohérentes puisque la courbe de la gaussienne n'est pas parfaite: certains points semblent très éloignés des autres -ce qui est inhabituel pour une telle loi-."
   ]
  },
  {
   "cell_type": "markdown",
   "id": "371f71c2",
   "metadata": {},
   "source": [
    "### Question  8"
   ]
  },
  {
   "cell_type": "code",
   "execution_count": 193,
   "id": "c6944552",
   "metadata": {
    "scrolled": true
   },
   "outputs": [
    {
     "data": {
      "image/png": "[encoded data removed]",
      "text/plain": [
       "<Figure size 1152x432 with 1 Axes>"
      ]
     },
     "metadata": {
      "needs_background": "light"
     },
     "output_type": "display_data"
    },
    {
     "name": "stdout",
     "output_type": "stream",
     "text": [
      "                            OLS Regression Results                            \n",
      "==============================================================================\n",
      "Dep. Variable:                      y   R-squared:                       0.145\n",
      "Model:                            OLS   Adj. R-squared:                  0.133\n",
      "Method:                 Least Squares   F-statistic:                     11.90\n",
      "Date:                Fri, 19 Nov 2021   Prob (F-statistic):           2.37e-12\n",
      "Time:                        15:59:52   Log-Likelihood:                -434.57\n",
      "No. Observations:                 428   AIC:                             883.1\n",
      "Df Residuals:                     421   BIC:                             911.6\n",
      "Df Model:                           6                                         \n",
      "Covariance Type:            nonrobust                                         \n",
      "==============================================================================\n",
      "                 coef    std err          t      P>|t|      [0.025      0.975]\n",
      "------------------------------------------------------------------------------\n",
      "const         -0.2662      0.200     -1.331      0.184      -0.660       0.127\n",
      "x1             0.0398      0.071      0.564      0.573      -0.099       0.179\n",
      "x2             0.1033      0.015      6.798      0.000       0.073       0.133\n",
      "x3             0.0003      0.000      2.568      0.011    8.01e-05       0.001\n",
      "x4             0.0043      0.003      1.286      0.199      -0.002       0.011\n",
      "x5            -0.0624      0.086     -0.730      0.466      -0.231       0.106\n",
      "x6            -0.0219      0.027     -0.813      0.417      -0.075       0.031\n",
      "==============================================================================\n",
      "Omnibus:                       83.417   Durbin-Watson:                   1.989\n",
      "Prob(Omnibus):                  0.000   Jarque-Bera (JB):              288.443\n",
      "Skew:                          -0.851   Prob(JB):                     2.32e-63\n",
      "Kurtosis:                       6.644   Cond. No.                     2.21e+03\n",
      "==============================================================================\n",
      "\n",
      "Notes:\n",
      "[1] Standard Errors assume that the covariance matrix of the errors is correctly specified.\n",
      "[2] The condition number is large, 2.21e+03. This might indicate that there are\n",
      "strong multicollinearity or other numerical problems.\n",
      "190.93732173097357\n"
     ]
    }
   ],
   "source": [
    "stack =np.column_stack((a, \n",
    "                        df['live in SMSA'], \n",
    "                        df['educ years of schooling'], \n",
    "                        df['expersq'], \n",
    "                        df['nwifeinc'], \n",
    "                        df['kids below 6'], \n",
    "                        df['kids between 6 and 18']))\n",
    "\n",
    "\n",
    "mod1 = sm.OLS(np.asarray(df['log(wage)']), stack)\n",
    "mod1 = mod1.fit()\n",
    "res1 = mod1.resid\n",
    "SSR1 = res1.T@res1\n",
    "\n",
    "\n",
    "plt.hist(res1,50, label='OLS on wage')\n",
    "\n",
    "x = np.linspace(-3, 3, 100)\n",
    "y = norm.pdf(x,0.15,0.6)*55  ## We mutliply to normalize the 2 curves\n",
    "plt.plot(x,y, label = 'gaussian curve')\n",
    "plt.legend()\n",
    "\n",
    "plt.show()\n",
    "\n",
    "print(mod1.summary())\n",
    "print(SSR1)"
   ]
  },
  {
   "cell_type": "markdown",
   "id": "393cb7a1",
   "metadata": {},
   "source": [
    "Nous pouvons encore observer une gaussienne centrée en 0 (ou plutot juste au dessus de 0), mais cette fois ci les valeurs sont bien mieux distribuées et elles sont cohérentes: il y a beaucoup moins de valeurs seules loin de l'origine (grâce au log)"
   ]
  },
  {
   "cell_type": "markdown",
   "id": "adffa386",
   "metadata": {},
   "source": [
    "### Question 9"
   ]
  },
  {
   "cell_type": "code",
   "execution_count": 162,
   "id": "1f968688",
   "metadata": {},
   "outputs": [
    {
     "name": "stdout",
     "output_type": "stream",
     "text": [
      "The p-value is:     p-value = 0.14340799213513744\n"
     ]
    }
   ],
   "source": [
    "SSR1 = res1.T@res1\n",
    "stack_troncated =np.column_stack((a, \n",
    "                                df['live in SMSA'], \n",
    "                                df['educ years of schooling'], \n",
    "                                df['expersq'], \n",
    "                                df['nwifeinc'], \n",
    "                                df['kids below 6'], \n",
    "                                df['kids between 6 and 18']))\n",
    "\n",
    "n,k =np.shape(stack1)\n",
    "\n",
    "mod2 =sm.OLS(df['log(wage)'],stack_troncated)\n",
    "mod2 =mod2.fit()\n",
    "res2 =mod2.resid\n",
    "SSR2 =res2.T@res2\n",
    "\n",
    "\n",
    "F2 =((SSR2-SSR1)/SSR1)*(n-k)/1\n",
    "fisher2 = f.sf(F2,1,n-k)\n",
    "print(\"The p-value is:     p-value =\",fisher2)"
   ]
  },
  {
   "cell_type": "markdown",
   "id": "09f71a1f",
   "metadata": {},
   "source": [
    "On ne rejette donc PAS H0 pour aucun des seuils (14>10>5>1)"
   ]
  },
  {
   "cell_type": "markdown",
   "id": "60e171e2",
   "metadata": {},
   "source": [
    "### Question  10"
   ]
  },
  {
   "cell_type": "code",
   "execution_count": 112,
   "id": "535b2f3d",
   "metadata": {},
   "outputs": [
    {
     "name": "stdout",
     "output_type": "stream",
     "text": [
      "The p-val is :  0.12442539027343329\n"
     ]
    }
   ],
   "source": [
    "stack3 = np.column_stack((a,\n",
    "                       df['live in SMSA'], \n",
    "                       df['educ years of schooling'], \n",
    "                       df['expersq'], \n",
    "                       df['nwifeinc'], \n",
    "                       df['kids below 6'], \n",
    "                       df['kids between 6 and 18']))\n",
    "\n",
    "\n",
    "data3 = df['log(wage)']-0.01*df['nwifeinc']\n",
    "mod3 = sm.OLS(data3,stack3)\n",
    "mod3 = mod3.fit()\n",
    "res3 = mod3.resid\n",
    "SSR3 = res3.T@res\n",
    "n,k = np.shape(stack)\n",
    "f3 = ((SSR3 - SSR1)/SSR1) *(n-k)/1\n",
    "fisher3 = f.sf(f3,1,n-k)\n",
    "print(\"The p-val is : \", fisher3)"
   ]
  },
  {
   "cell_type": "markdown",
   "id": "8db49669",
   "metadata": {},
   "source": [
    "On ne rejette donc pas l'hypothèse"
   ]
  },
  {
   "cell_type": "markdown",
   "id": "2d511bc2",
   "metadata": {},
   "source": [
    "### Question  11"
   ]
  },
  {
   "cell_type": "code",
   "execution_count": 118,
   "id": "bc5f0be7",
   "metadata": {},
   "outputs": [
    {
     "name": "stdout",
     "output_type": "stream",
     "text": [
      "The p-val is :  0.2636174065428352\n"
     ]
    }
   ],
   "source": [
    "stack4 = np.column_stack((a,\n",
    "                       df['educ years of schooling'], \n",
    "                       df['expersq'], \n",
    "                       df['kids below 6'], \n",
    "                       df['kids between 6 and 18']))\n",
    "\n",
    "data4 = df['log(wage)']-0.01*df['nwifeinc']-0.05*df['live in SMSA']\n",
    "mod4 = sm.OLS(data4,stack4)\n",
    "mod4 = mod4.fit()\n",
    "res4 = mod4.resid\n",
    "SSR4 = res4.T@res4\n",
    "n,k = np.shape(stack)\n",
    "f4 = ((SSR4 - SSR1)/SSR1) *(n-k)/2\n",
    "fisher4 = f.sf(f4,2,n-k)\n",
    "print(\"The p-val is : \", fisher4)"
   ]
  },
  {
   "cell_type": "markdown",
   "id": "824c6def",
   "metadata": {},
   "source": [
    "On ne rejette donc pas l'hypothèse à 5%"
   ]
  },
  {
   "cell_type": "markdown",
   "id": "ff9c8488",
   "metadata": {},
   "source": [
    "### Question  12"
   ]
  },
  {
   "cell_type": "code",
   "execution_count": 119,
   "id": "0024a3ec",
   "metadata": {},
   "outputs": [
    {
     "data": {
      "image/png": "[encoded data removed]",
      "text/plain": [
       "<Figure size 1152x504 with 1 Axes>"
      ]
     },
     "metadata": {
      "needs_background": "light"
     },
     "output_type": "display_data"
    }
   ],
   "source": [
    "plt.rcParams[\"figure.figsize\"] = (16, 7)\n",
    "\n",
    "plt.grid()\n",
    "plt.title('wage with education')\n",
    "both = df.groupby(['educ years of schooling']).mean()\n",
    "both = both.sort_values(by=['educ years of schooling'])\n",
    "plt.plot(both.index, both['wage estimated'])\n",
    "plt.xlabel('education')\n",
    "plt.ylabel('wage')\n",
    "plt.show()"
   ]
  },
  {
   "cell_type": "code",
   "execution_count": 96,
   "id": "c17ef0d1",
   "metadata": {},
   "outputs": [
    {
     "data": {
      "image/png": "[encoded data removed]",
      "text/plain": [
       "<Figure size 1152x504 with 1 Axes>"
      ]
     },
     "metadata": {
      "needs_background": "light"
     },
     "output_type": "display_data"
    }
   ],
   "source": [
    "plt.grid()\n",
    "plt.title('wage with experience')\n",
    "both = df.groupby(['expersq']).mean()\n",
    "both = both.sort_values(by=['expersq'])\n",
    "plt.plot(both.index, both['wage estimated'])\n",
    "plt.xlabel('expersq')\n",
    "plt.ylabel('wage')\n",
    "\n",
    "plt.show()"
   ]
  },
  {
   "cell_type": "markdown",
   "id": "503aa056",
   "metadata": {},
   "source": [
    "On remarque que le salaire dépend clairement plus de l'éducation que de l'experience (puisque la courbe selon l'experience oscille autour d'une valeur centrale)"
   ]
  },
  {
   "cell_type": "markdown",
   "id": "d0580310",
   "metadata": {},
   "source": [
    "### Question  13"
   ]
  },
  {
   "cell_type": "code",
   "execution_count": 123,
   "id": "c4c276ab",
   "metadata": {},
   "outputs": [
    {
     "name": "stdout",
     "output_type": "stream",
     "text": [
      "                            OLS Regression Results                            \n",
      "==============================================================================\n",
      "Dep. Variable:              log(wage)   R-squared:                       0.142\n",
      "Model:                            OLS   Adj. R-squared:                  0.132\n",
      "Method:                 Least Squares   F-statistic:                     13.93\n",
      "Date:                Fri, 19 Nov 2021   Prob (F-statistic):           1.30e-12\n",
      "Time:                        15:00:18   Log-Likelihood:                -435.41\n",
      "No. Observations:                 428   AIC:                             882.8\n",
      "Df Residuals:                     422   BIC:                             907.2\n",
      "Df Model:                           5                                         \n",
      "Covariance Type:            nonrobust                                         \n",
      "==============================================================================\n",
      "                 coef    std err          t      P>|t|      [0.025      0.975]\n",
      "------------------------------------------------------------------------------\n",
      "const         -0.2564      0.200     -1.282      0.201      -0.650       0.137\n",
      "x1             0.0595      0.069      0.862      0.389      -0.076       0.195\n",
      "x2             0.1085      0.015      7.400      0.000       0.080       0.137\n",
      "x3             0.0003      0.000      2.394      0.017    5.63e-05       0.001\n",
      "x4            -0.0522      0.091     -0.576      0.565      -0.230       0.126\n",
      "x5            -0.0210      0.027     -0.779      0.436      -0.074       0.032\n",
      "==============================================================================\n",
      "Omnibus:                       84.273   Durbin-Watson:                   1.989\n",
      "Prob(Omnibus):                  0.000   Jarque-Bera (JB):              293.606\n",
      "Skew:                          -0.857   Prob(JB):                     1.76e-64\n",
      "Kurtosis:                       6.677   Cond. No.                     2.21e+03\n",
      "==============================================================================\n",
      "\n",
      "Notes:\n",
      "[1] Standard Errors assume that the covariance matrix of the errors is correctly specified.\n",
      "[2] The condition number is large, 2.21e+03. This might indicate that there are\n",
      "strong multicollinearity or other numerical problems.\n"
     ]
    }
   ],
   "source": [
    "tot_kids = df['kids below 6'].add(df['kids between 6 and 18'])\n",
    "\n",
    "stack_kids =np.column_stack((a, \n",
    "                        np.asarray(df['live in SMSA']), \n",
    "                        np.asarray(df['educ years of schooling']), \n",
    "                        np.asarray(df['expersq']),  \n",
    "                        np.asarray(df['kids below 6']), \n",
    "                        np.asarray(tot_kids)))\n",
    "\n",
    "mod5 = sm.OLS(df['log(wage)'], stack_kids)\n",
    "mod5 = mod5.fit()\n",
    "res5= mod5.resid\n",
    "\n",
    "print(res.summary())"
   ]
  },
  {
   "cell_type": "markdown",
   "id": "5090d17a",
   "metadata": {},
   "source": [
    " "
   ]
  },
  {
   "cell_type": "markdown",
   "id": "c8fbfcfa",
   "metadata": {},
   "source": [
    "On remarque que pour la varibale x4 (kids bellow 6):     P>|t| = 0,56"
   ]
  },
  {
   "cell_type": "markdown",
   "id": "14dad034",
   "metadata": {},
   "source": [
    "La p-value est donc 56% ce qui est plus grand que 5%, donc on rejette l'hyptohese d'égalité des coefficients 'kidsbt6' et 'kidsgt6'."
   ]
  },
  {
   "cell_type": "markdown",
   "id": "ef7c3707",
   "metadata": {},
   "source": [
    "### Question  14"
   ]
  },
  {
   "cell_type": "code",
   "execution_count": 200,
   "id": "7f3434a2",
   "metadata": {},
   "outputs": [
    {
     "name": "stdout",
     "output_type": "stream",
     "text": [
      "statistique de fischer =  1.585263938652012\n",
      "valeur critique=  3.0171506509713275\n",
      "p-value =  0.147253803625398\n"
     ]
    }
   ],
   "source": [
    "stack6 = np.column_stack((a, \n",
    "                        np.asarray(df['educ years of schooling']), \n",
    "                        np.asarray(df['expersq'])))\n",
    "\n",
    "mod6 = sm.OLS(df['wage estimated'],stack6)\n",
    "mod6 = mod6.fit()\n",
    "res6 = mod6.resid\n",
    "\n",
    "\n",
    "mod66 = res6**2 \n",
    "mod66 = sm.OLS(mod66, stack6)\n",
    "mod66 = mod66.fit()\n",
    "res66 = mod66.resid\n",
    "SSR66 = res66.T @ res66\n",
    "R6 = mod66.rsquared\n",
    "\n",
    "nbis,kbis = np.shape(stack6)\n",
    "fbis = (R6/kbis) / ((1-R6) / (nbis-kbis-1))\n",
    "p_values = mod66.f_pvalue\n",
    "\n",
    "print(\"statistique de fischer = \", mod66.fvalue )\n",
    "print(\"valeur critique= \",f.isf(0.05,2,n-k))\n",
    "print('p-value = ', p_values)"
   ]
  },
  {
   "cell_type": "markdown",
   "id": "121cef19",
   "metadata": {},
   "source": [
    "14>10>5>1 Donc on rejette l'hypothèse pour tous les seuils."
   ]
  },
  {
   "cell_type": "markdown",
   "id": "48494f80",
   "metadata": {},
   "source": [
    "### Question  15"
   ]
  },
  {
   "cell_type": "code",
   "execution_count": 205,
   "id": "b4330762",
   "metadata": {},
   "outputs": [],
   "source": [
    "def SSR(plusOrMoins):\n",
    "    \n",
    "    if plusOrMoins == 'moins':\n",
    "        filtre = df['age women']<=45\n",
    "    elif plusOrMoins == 'plus':\n",
    "        filtre = df['age women']>45\n",
    "\n",
    "    data7 = df['log(wage)'][filtre]\n",
    "    stack7 = np.column_stack((a[filtre], \n",
    "                            np.asarray(df['live in SMSA'][filtre]), \n",
    "                            np.asarray(df['educ years of schooling'][filtre]), \n",
    "                            np.asarray(df['expersq'][filtre]),  \n",
    "                            np.asarray(df['nwifeinc'][filtre])))\n",
    "\n",
    "    mod7 = sm.OLS(data7,stack7)\n",
    "    mod7 = mod7.fit()\n",
    "    p_value = mod7.pvalues\n",
    "    res7 = mod7.resid\n",
    "    SSR7 = res7.T @ res7\n",
    "\n",
    "    return SSR7"
   ]
  },
  {
   "cell_type": "code",
   "execution_count": 224,
   "id": "2fd22679",
   "metadata": {},
   "outputs": [
    {
     "name": "stdout",
     "output_type": "stream",
     "text": [
      "SSR_Moins43: 105.36297749294738 SSR_plus43: 80.03719784649275 SSR_tot: 187.16273662839203\n",
      "Ficher chow: 1.162737927566472 \n",
      " P_value chow:  0.31373828930284803\n"
     ]
    }
   ],
   "source": [
    "SSR_Moins43 = SSR('moins')\n",
    "SSR_plus43 = SSR('plus')\n",
    "SSR_tot = SSR('tot')\n",
    "\n",
    "SSR_sum = SSR_Moins43 + SSR_Plus43\n",
    "print('SSR_Moins43:', SSR_Moins43,\n",
    "      'SSR_plus43:', SSR_plus43,\n",
    "      'SSR_tot:', SSR_tot)\n",
    "\n",
    "f7 = ((SSR_Moins43 - SSR_sum)/SSR_sum)*((n-2*7)/7)\n",
    "p_value7 = f.sf(f7,7,n-7)\n",
    "print('Ficher chow:',f7,'P_value chow: ',p_value7)\n",
    "print('P_value chow: ',p_value7)"
   ]
  },
  {
   "cell_type": "markdown",
   "id": "570d8232",
   "metadata": {},
   "source": [
    "### Question  16"
   ]
  },
  {
   "cell_type": "code",
   "execution_count": 225,
   "id": "5c0ea296",
   "metadata": {},
   "outputs": [],
   "source": [
    "def SSR_bis(plusOrMoins):\n",
    "    if plusOrMoins == 'moins':\n",
    "        filtre = df['age women']<=45\n",
    "    elif plusOrMoins == 'plus':\n",
    "        filtre = df['age women']>45\n",
    "\n",
    "    data8 = df['log(wage)'][filtre]\n",
    "    stack8 = np.column_stack((a[filtre], \n",
    "                            np.asarray(df['educ years of schooling'][filtre]), \n",
    "                            np.asarray(df['expersq'][filtre])))\n",
    "\n",
    "    mod8 = sm.OLS(data8,stack8)\n",
    "    mod8 = mod8.fit()\n",
    "    p_value = result.pvalues\n",
    "    res8 = mod8.resid\n",
    "    SSR8 = res8.T @ res8\n",
    "\n",
    "    return SSR8"
   ]
  },
  {
   "cell_type": "code",
   "execution_count": 226,
   "id": "d476daeb",
   "metadata": {},
   "outputs": [
    {
     "name": "stdout",
     "output_type": "stream",
     "text": [
      "SSR_Moins43_bis: 105.50372924028493 SSR_Plus43_bis: 81.99284013840149\n",
      "Ficher chow: 0.8527829272729232 P_value chow:  0.5318200188810824\n"
     ]
    }
   ],
   "source": [
    "SSR_Moins43_bis = SSR_bis('moins')\n",
    "SSR_Plus43_bis = SSR_bis('plus')\n",
    "\n",
    "\n",
    "SSR_sum_bis = SSR_Moins43_bis + SSR_Plus43_bis\n",
    "print('SSR_Moins43_bis:', SSR_Moins43_bis,\n",
    "      'SSR_Plus43_bis:', SSR_Plus43_bis)\n",
    "\n",
    "f8 = ((SSR_Moins43_bis - SSR_sum_bis)/SSR_sum_bis)*((n-2*7)/7)\n",
    "p_value8 = f.sf(f8,7,n-7)\n",
    "print('Ficher chow:',f8,'P_value chow: ',p_value8)\n"
   ]
  }
 ],
 "metadata": {
  "celltoolbar": "Aucun(e)",
  "kernelspec": {
   "display_name": "Python 3",
   "language": "python",
   "name": "python3"
  },
  "language_info": {
   "codemirror_mode": {
    "name": "ipython",
    "version": 3
   },
   "file_extension": ".py",
   "mimetype": "text/x-python",
   "name": "python",
   "nbconvert_exporter": "python",
   "pygments_lexer": "ipython3",
   "version": "3.8.8"
  }
 },
 "nbformat": 4,
 "nbformat_minor": 5
}
